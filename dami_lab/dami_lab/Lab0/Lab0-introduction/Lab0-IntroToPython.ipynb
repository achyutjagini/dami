{
 "cells": [
  {
   "cell_type": "markdown",
   "metadata": {},
   "source": [
    "# Lab 0: Introduction to Python\n",
    "\n",
    "The file `intro.py` presents part of the Python syntax:\n",
    "\n",
    "- Create organized *Header Blocks*.\n",
    "- Conditionals\n",
    "- Explore main Data Structures\n",
    "- Loops\n",
    "- Functions\n",
    "- Import Python packages with PIP\n",
    "\n",
    "\n",
    "In this section, we present more examples on conditionals, loops and functions using **Jupyter notebooks**.\n",
    "\n",
    "- IPython is a kernel behind Jupyter notebooks that makes working interactively convenient and efficient.\n",
    "- It is the way to go when is about Scientific Computing and Data Mining\n",
    "- Allows to combine codes with text through `MarkDown` language and $\\LaTeX$\n",
    "\n",
    "For example, some repositories with Jupyter notebooks are:\n",
    "\n",
    "- https://github.com/jupyter/jupyter/wiki#a-gallery-of-interesting-jupyter-notebooks\n",
    "- https://nbviewer.jupyter.org/\n",
    "\n"
   ]
  },
  {
   "cell_type": "markdown",
   "metadata": {},
   "source": [
    "## Activity 1: Design of Custom Functions from Jupyter\n",
    "\n",
    "Some of the homeworks will require you to **design your own functions**. As an example, we explain below how to create a function to calculate the `mean` in a multidimensional `numpy` array. This function is already incorporated in the numpy package, but we will use it as a simple example to learn how to design functions from a Jupyter notebook.\n",
    "\n",
    "The lab includes these steps:\n",
    "- Construction of 2D arrays in `numpy`\n",
    "- Create a function to calculate the `mean` of the array per axis\n",
    "- Test the function in Jupyter notebook\n",
    "- Load a dataset from a file\n",
    "- Show some visualizations"
   ]
  },
  {
   "cell_type": "code",
   "execution_count": 1,
   "metadata": {},
   "outputs": [
    {
     "name": "stderr",
     "output_type": "stream",
     "text": [
      "D:\\Conda\\lib\\site-packages\\numpy\\_distributor_init.py:30: UserWarning: loaded more than 1 DLL from .libs:\n",
      "D:\\Conda\\lib\\site-packages\\numpy\\.libs\\libopenblas.EL2C6PLE4ZYW3ECEVIV3OXXGRN2NRFM2.gfortran-win_amd64.dll\n",
      "D:\\Conda\\lib\\site-packages\\numpy\\.libs\\libopenblas.FB5AE2TYXYH2IJRDKGDGQ3XBKLKTF43H.gfortran-win_amd64.dll\n",
      "  warnings.warn(\"loaded more than 1 DLL from .libs:\"\n"
     ]
    }
   ],
   "source": [
    "# Import packages\n",
    "# Numpy is useful for data analysis\n",
    "import numpy as np"
   ]
  },
  {
   "cell_type": "markdown",
   "metadata": {},
   "source": [
    "### Create a 2D array\n",
    "Create a 2D numpy array with size `(10,5)`. The numbers to fill in the array are created pseudo-randomly."
   ]
  },
  {
   "cell_type": "code",
   "execution_count": 2,
   "metadata": {},
   "outputs": [],
   "source": [
    "# Guarantees that the pseudo-random process is always going to show the same results. \n",
    "# Provides repeatability of experiments\n",
    "np.random.seed(12345)"
   ]
  },
  {
   "cell_type": "code",
   "execution_count": 3,
   "metadata": {},
   "outputs": [
    {
     "data": {
      "text/plain": [
       "array([[98, 29,  1, 36, 41],\n",
       "       [34, 29,  1, 59, 14],\n",
       "       [91, 80, 73, 11, 77],\n",
       "       [10, 81, 82, 38,  7],\n",
       "       [43, 23, 29, 56, 55],\n",
       "       [31, 61, 97, 91, 87],\n",
       "       [36, 64,  3,  5, 15],\n",
       "       [75, 14, 81,  5, 34],\n",
       "       [53, 72,  5, 98,  5],\n",
       "       [59, 83, 12, 14, 80]])"
      ]
     },
     "execution_count": 3,
     "metadata": {},
     "output_type": "execute_result"
    }
   ],
   "source": [
    "array_in_2D = np.random.randint(0, 100, size=(10,5))\n",
    "array_in_2D"
   ]
  },
  {
   "cell_type": "code",
   "execution_count": 4,
   "metadata": {},
   "outputs": [
    {
     "data": {
      "text/plain": [
       "11"
      ]
     },
     "execution_count": 4,
     "metadata": {},
     "output_type": "execute_result"
    }
   ],
   "source": [
    "# Example of how to access a specific value\n",
    "# Access to the list in the index 2 (i.e. [91,80,73,11,77]), and then the element in the index 3. (i.e. 11)\n",
    "array_in_2D[2,3] "
   ]
  },
  {
   "cell_type": "code",
   "execution_count": 5,
   "metadata": {},
   "outputs": [
    {
     "data": {
      "text/plain": [
       "(10, 5)"
      ]
     },
     "execution_count": 5,
     "metadata": {},
     "output_type": "execute_result"
    }
   ],
   "source": [
    "array_in_2D.shape # Method to extract the size of the numpy array"
   ]
  },
  {
   "cell_type": "code",
   "execution_count": 6,
   "metadata": {},
   "outputs": [
    {
     "data": {
      "text/plain": [
       "98"
      ]
     },
     "execution_count": 6,
     "metadata": {},
     "output_type": "execute_result"
    }
   ],
   "source": [
    "array_in_2D.max() # Function to calculate the maximum in the array"
   ]
  },
  {
   "cell_type": "code",
   "execution_count": 7,
   "metadata": {},
   "outputs": [
    {
     "data": {
      "text/plain": [
       "45.56"
      ]
     },
     "execution_count": 7,
     "metadata": {},
     "output_type": "execute_result"
    }
   ],
   "source": [
    "array_in_2D.mean() # Calculate the mean over all the elements"
   ]
  },
  {
   "cell_type": "markdown",
   "metadata": {},
   "source": [
    "### Create a function to calculate the `mean` of the array per axis\n",
    "\n",
    "The function needs to have a parameter `axis` which can take either None, 0 or 1. If None, it averages over all elements. If 0, it averages vertically downwards across rows (in our example, result is an array of length 5). If 1, it averages horizontally across columns (in our example, result is an array of length 10).\n",
    "\n",
    "**NOTE: The concept of `axis` in numpy arrays is one of the most important concepts for data analysis, but at the same time one of the hardest to comprehend. Please refer to the [official explanation](https://numpy.org/doc/stable/glossary.html) to familiarize yourself with this parameter.** "
   ]
  },
  {
   "cell_type": "code",
   "execution_count": 8,
   "metadata": {},
   "outputs": [],
   "source": [
    "def calculate_mean_2D_array(input_array, axis=None):\n",
    "    \"\"\"\n",
    "    This function uses numpy methods to calculate the \n",
    "    mean of a 2D numpy array according to the specified axis.\n",
    "\n",
    "    Input:\n",
    "        input_array: 2D numpy array\n",
    "        axis: Defines how to perform the calculation of the mean\n",
    "            axis=None (default) - Average all the values in the array\n",
    "            axis=0 - running vertically downwards across rows\n",
    "            axis=1 - running horizontally across columns\n",
    "    Output:\n",
    "        A single value (if axis=None) or an array containing\n",
    "        the mean of the elements along the specified axis\n",
    "    \"\"\"\n",
    "\n",
    "    # Local Variables\n",
    "    result = None   # This variable will contain the final result\n",
    "\n",
    "    # Help variables for the function\n",
    "    nrows, ncols = input_array.shape # Extracts the size of the array\n",
    "    N = nrows * ncols\n",
    "\n",
    "    # Average over all the elements\n",
    "    if axis == None:\n",
    "        # Help variable to store cumulative sum\n",
    "        cumsum = 0\n",
    "        # Access each row from the array\n",
    "        for i in range(nrows):\n",
    "            # Access each value from the row\n",
    "            for j in range(ncols):\n",
    "                # Add to the cumulative sum\n",
    "                cumsum += input_array[i,j]\n",
    "        # Calculate total average\n",
    "        result = cumsum / N\n",
    "\n",
    "    # Average vertically downwards across rows\n",
    "    elif axis == 0:\n",
    "        # The result is a list, in which we will append respective values \n",
    "        result = []\n",
    "        # Access each row from the array\n",
    "        for j in range(ncols):\n",
    "            # Sum ALL the elements from the column\n",
    "            #   and divide by number of elements\n",
    "            average = input_array[:,j].sum() / nrows\n",
    "            # Append the value to the result\n",
    "            result.append(average)\n",
    "        # Convert from list to numpy array\n",
    "        result = np.array(result)\n",
    "\n",
    "    # Average horizontally across columns\n",
    "    elif axis == 1:\n",
    "        # The result is a list, in which we will append respective values \n",
    "        result = []\n",
    "        # Access each row from the array\n",
    "        for i in range(nrows):\n",
    "            # Sum ALL the elements from the row\n",
    "            #   and divide by number of elements\n",
    "            average = input_array[i,:].sum() / ncols\n",
    "            # Append the value to the result\n",
    "            result.append(average)\n",
    "        # Convert from list to numpy array\n",
    "        result = np.array(result) # Convert from list to numpy array\n",
    "    \n",
    "    # Return the variable to the object that called this function\n",
    "    return result"
   ]
  },
  {
   "cell_type": "markdown",
   "metadata": {},
   "source": [
    "### Test the function from the Jupyter notebook"
   ]
  },
  {
   "cell_type": "code",
   "execution_count": 9,
   "metadata": {},
   "outputs": [
    {
     "data": {
      "text/plain": [
       "45.56"
      ]
     },
     "execution_count": 9,
     "metadata": {},
     "output_type": "execute_result"
    }
   ],
   "source": [
    "# Result custom function with no specific axis\n",
    "calculate_mean_2D_array(array_in_2D)"
   ]
  },
  {
   "cell_type": "code",
   "execution_count": 10,
   "metadata": {},
   "outputs": [
    {
     "data": {
      "text/plain": [
       "array([53. , 53.6, 38.4, 41.3, 41.5])"
      ]
     },
     "execution_count": 10,
     "metadata": {},
     "output_type": "execute_result"
    }
   ],
   "source": [
    "calculate_mean_2D_array(array_in_2D, axis=0)"
   ]
  },
  {
   "cell_type": "code",
   "execution_count": 11,
   "metadata": {},
   "outputs": [
    {
     "data": {
      "text/plain": [
       "array([41. , 27.4, 66.4, 43.6, 41.2, 73.4, 24.6, 41.8, 46.6, 49.6])"
      ]
     },
     "execution_count": 11,
     "metadata": {},
     "output_type": "execute_result"
    }
   ],
   "source": [
    "calculate_mean_2D_array(array_in_2D, axis=1)"
   ]
  },
  {
   "cell_type": "markdown",
   "metadata": {},
   "source": [
    "### Compare the result with built-in function\n",
    "\n",
    "The function that we have created already exists in numpy (see [here](https://numpy.org/doc/stable/reference/generated/numpy.mean.html)).\n",
    "\n",
    "Then we can use the implemented function to validate our results, we just need to call the method `.mean()` and the parameter `axis`."
   ]
  },
  {
   "cell_type": "code",
   "execution_count": 12,
   "metadata": {},
   "outputs": [
    {
     "data": {
      "text/plain": [
       "45.56"
      ]
     },
     "execution_count": 12,
     "metadata": {},
     "output_type": "execute_result"
    }
   ],
   "source": [
    "# Result of mean among all elements\n",
    "array_in_2D.mean()"
   ]
  },
  {
   "cell_type": "code",
   "execution_count": 13,
   "metadata": {},
   "outputs": [
    {
     "data": {
      "text/plain": [
       "array([53. , 53.6, 38.4, 41.3, 41.5])"
      ]
     },
     "execution_count": 13,
     "metadata": {},
     "output_type": "execute_result"
    }
   ],
   "source": [
    "# Result of mean in axis 0 []\n",
    "array_in_2D.mean(axis=0)"
   ]
  },
  {
   "cell_type": "code",
   "execution_count": 14,
   "metadata": {},
   "outputs": [
    {
     "data": {
      "text/plain": [
       "array([41. , 27.4, 66.4, 43.6, 41.2, 73.4, 24.6, 41.8, 46.6, 49.6])"
      ]
     },
     "execution_count": 14,
     "metadata": {},
     "output_type": "execute_result"
    }
   ],
   "source": [
    "# Result of mean in axis 1\n",
    "array_in_2D.mean(axis=1)"
   ]
  },
  {
   "cell_type": "markdown",
   "metadata": {},
   "source": [
    "As we can see, the results from our custom function `calculate_mean(input_array, axis=0)` returns the same values than the built-in function `array_in_2D.mean(axis=0)`."
   ]
  },
  {
   "cell_type": "markdown",
   "metadata": {},
   "source": [
    "# Load a dataset from a file\n",
    "Lastly, we will create a simple example to load the iris dataset and perform basic plots using pandas and seaborn"
   ]
  },
  {
   "cell_type": "code",
   "execution_count": 15,
   "metadata": {},
   "outputs": [],
   "source": [
    "# Pandas enables simple data structures called dataframes (resemble Excel spreadsheets)\n",
    "import pandas as pd\n",
    "\n",
    "# Data visualization using Matpotlib and Seaborn\n",
    "import seaborn as sns\n",
    "import matplotlib.pyplot as plt"
   ]
  },
  {
   "cell_type": "code",
   "execution_count": 16,
   "metadata": {},
   "outputs": [],
   "source": [
    "dataset_iris = pd.read_csv(\"./iris.csv\")"
   ]
  },
  {
   "cell_type": "code",
   "execution_count": 17,
   "metadata": {},
   "outputs": [
    {
     "data": {
      "text/html": [
       "<div>\n",
       "<style scoped>\n",
       "    .dataframe tbody tr th:only-of-type {\n",
       "        vertical-align: middle;\n",
       "    }\n",
       "\n",
       "    .dataframe tbody tr th {\n",
       "        vertical-align: top;\n",
       "    }\n",
       "\n",
       "    .dataframe thead th {\n",
       "        text-align: right;\n",
       "    }\n",
       "</style>\n",
       "<table border=\"1\" class=\"dataframe\">\n",
       "  <thead>\n",
       "    <tr style=\"text-align: right;\">\n",
       "      <th></th>\n",
       "      <th>SepalLengthCm</th>\n",
       "      <th>SepalWidthCm</th>\n",
       "      <th>PetalLengthCm</th>\n",
       "      <th>PetalWidthCm</th>\n",
       "    </tr>\n",
       "  </thead>\n",
       "  <tbody>\n",
       "    <tr>\n",
       "      <th>count</th>\n",
       "      <td>150.000000</td>\n",
       "      <td>150.000000</td>\n",
       "      <td>150.000000</td>\n",
       "      <td>150.000000</td>\n",
       "    </tr>\n",
       "    <tr>\n",
       "      <th>mean</th>\n",
       "      <td>5.843333</td>\n",
       "      <td>3.054000</td>\n",
       "      <td>3.758667</td>\n",
       "      <td>1.198667</td>\n",
       "    </tr>\n",
       "    <tr>\n",
       "      <th>std</th>\n",
       "      <td>0.828066</td>\n",
       "      <td>0.433594</td>\n",
       "      <td>1.764420</td>\n",
       "      <td>0.763161</td>\n",
       "    </tr>\n",
       "    <tr>\n",
       "      <th>min</th>\n",
       "      <td>4.300000</td>\n",
       "      <td>2.000000</td>\n",
       "      <td>1.000000</td>\n",
       "      <td>0.100000</td>\n",
       "    </tr>\n",
       "    <tr>\n",
       "      <th>25%</th>\n",
       "      <td>5.100000</td>\n",
       "      <td>2.800000</td>\n",
       "      <td>1.600000</td>\n",
       "      <td>0.300000</td>\n",
       "    </tr>\n",
       "    <tr>\n",
       "      <th>50%</th>\n",
       "      <td>5.800000</td>\n",
       "      <td>3.000000</td>\n",
       "      <td>4.350000</td>\n",
       "      <td>1.300000</td>\n",
       "    </tr>\n",
       "    <tr>\n",
       "      <th>75%</th>\n",
       "      <td>6.400000</td>\n",
       "      <td>3.300000</td>\n",
       "      <td>5.100000</td>\n",
       "      <td>1.800000</td>\n",
       "    </tr>\n",
       "    <tr>\n",
       "      <th>max</th>\n",
       "      <td>7.900000</td>\n",
       "      <td>4.400000</td>\n",
       "      <td>6.900000</td>\n",
       "      <td>2.500000</td>\n",
       "    </tr>\n",
       "  </tbody>\n",
       "</table>\n",
       "</div>"
      ],
      "text/plain": [
       "       SepalLengthCm  SepalWidthCm  PetalLengthCm  PetalWidthCm\n",
       "count     150.000000    150.000000     150.000000    150.000000\n",
       "mean        5.843333      3.054000       3.758667      1.198667\n",
       "std         0.828066      0.433594       1.764420      0.763161\n",
       "min         4.300000      2.000000       1.000000      0.100000\n",
       "25%         5.100000      2.800000       1.600000      0.300000\n",
       "50%         5.800000      3.000000       4.350000      1.300000\n",
       "75%         6.400000      3.300000       5.100000      1.800000\n",
       "max         7.900000      4.400000       6.900000      2.500000"
      ]
     },
     "execution_count": 17,
     "metadata": {},
     "output_type": "execute_result"
    }
   ],
   "source": [
    "## Exploring my dataset:\n",
    "## 1. How many rows does the iris dataset have?\n",
    "## 2. What are min, max, mean, etc., values of each columns?\n",
    "## 3. How many different species do we have?\n",
    "## ...\n",
    "dataset_iris.describe()"
   ]
  },
  {
   "cell_type": "code",
   "execution_count": 18,
   "metadata": {},
   "outputs": [
    {
     "data": {
      "image/png": "[encoded data removed]",
      "text/plain": [
       "<Figure size 640x480 with 1 Axes>"
      ]
     },
     "metadata": {},
     "output_type": "display_data"
    }
   ],
   "source": [
    "# Pandas includes scripts to directly make some basic plots\n",
    "dataset_iris.plot(kind=\"scatter\", x=\"SepalLengthCm\", y=\"SepalWidthCm\", color=\"green\", s=70)\n",
    "plt.show()"
   ]
  },
  {
   "cell_type": "code",
   "execution_count": 19,
   "metadata": {},
   "outputs": [
    {
     "data": {
      "image/png": "[encoded data removed]",
      "text/plain": [
       "<Figure size 1000x1000 with 4 Axes>"
      ]
     },
     "metadata": {},
     "output_type": "display_data"
    }
   ],
   "source": [
    "## Modify the figsize, by placing a value in the X and Y cordinates\n",
    "dataset_iris.boxplot(by=\"Species\", figsize=(10, 10))\n",
    "plt.show()"
   ]
  },
  {
   "cell_type": "code",
   "execution_count": null,
   "metadata": {},
   "outputs": [],
   "source": [
    "sns.pairplot(dataset_iris, hue=\"Species\", height=3)\n",
    "plt.show()"
   ]
  },
  {
   "cell_type": "markdown",
   "metadata": {},
   "source": [
    "## `NOTE:` Remember to **Restart the Kernel** from time to time to guarantee that the notebook works properly when you press **Run All**"
   ]
  },
  {
   "cell_type": "markdown",
   "metadata": {},
   "source": [
    "# End of Lab 0"
   ]
  }
 ],
 "metadata": {
  "interpreter": {
   "hash": "0600588c3b5f4418cbe7b5ebc6825b479f3bc010269d8b60d75058cdd010adfe"
  },
  "kernelspec": {
   "display_name": "Python 3 (ipykernel)",
   "language": "python",
   "name": "python3"
  },
  "language_info": {
   "codemirror_mode": {
    "name": "ipython",
    "version": 3
   },
   "file_extension": ".py",
   "mimetype": "text/x-python",
   "name": "python",
   "nbconvert_exporter": "python",
   "pygments_lexer": "ipython3",
   "version": "3.9.7"
  }
 },
 "nbformat": 4,
 "nbformat_minor": 4
}
